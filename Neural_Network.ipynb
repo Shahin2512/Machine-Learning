{
  "nbformat": 4,
  "nbformat_minor": 0,
  "metadata": {
    "colab": {
      "provenance": [],
      "authorship_tag": "ABX9TyNIdraB8y7C6M1eKaCkg+UB",
      "include_colab_link": true
    },
    "kernelspec": {
      "name": "python3",
      "display_name": "Python 3"
    },
    "language_info": {
      "name": "python"
    }
  },
  "cells": [
    {
      "cell_type": "markdown",
      "metadata": {
        "id": "view-in-github",
        "colab_type": "text"
      },
      "source": [
        "<a href=\"https://colab.research.google.com/github/Shahin2512/Machine-Learning/blob/main/Neural_Network.ipynb\" target=\"_parent\"><img src=\"https://colab.research.google.com/assets/colab-badge.svg\" alt=\"Open In Colab\"/></a>"
      ]
    },
    {
      "cell_type": "code",
      "execution_count": null,
      "metadata": {
        "id": "RZmEGQQ7R4ex"
      },
      "outputs": [],
      "source": [
        "import numpy as np"
      ]
    },
    {
      "cell_type": "code",
      "source": [
        "#assigning input values\n",
        "\n",
        "x = np.array([[0,0],[0,1],[1,1],[1,0]])\n",
        "x.shape\n",
        "x"
      ],
      "metadata": {
        "colab": {
          "base_uri": "https://localhost:8080/"
        },
        "id": "SOB8VoWBSCLf",
        "outputId": "ff47b6b9-ba64-4482-8e55-f47fe31b1b28"
      },
      "execution_count": null,
      "outputs": [
        {
          "output_type": "execute_result",
          "data": {
            "text/plain": [
              "array([[0, 0],\n",
              "       [0, 1],\n",
              "       [1, 1],\n",
              "       [1, 0]])"
            ]
          },
          "metadata": {},
          "execution_count": 2
        }
      ]
    },
    {
      "cell_type": "code",
      "source": [
        "#assigning output values\n",
        "\n",
        "output = np.array([0,1,1,0])\n",
        "output = output.reshape(4,1)\n",
        "output.shape"
      ],
      "metadata": {
        "colab": {
          "base_uri": "https://localhost:8080/"
        },
        "id": "tQ3u0K90Sfcd",
        "outputId": "999956d4-5c9e-4925-d840-a88f813a7cf2"
      },
      "execution_count": null,
      "outputs": [
        {
          "output_type": "execute_result",
          "data": {
            "text/plain": [
              "(4, 1)"
            ]
          },
          "metadata": {},
          "execution_count": 10
        }
      ]
    },
    {
      "cell_type": "code",
      "source": [
        "#assigning weights\n",
        "\n",
        "wt = np.array([[0.1],[0.2]])\n",
        "wt"
      ],
      "metadata": {
        "colab": {
          "base_uri": "https://localhost:8080/"
        },
        "id": "vt4n88znS2CZ",
        "outputId": "d97d2026-d479-42c1-968b-892373e7fe60"
      },
      "execution_count": null,
      "outputs": [
        {
          "output_type": "execute_result",
          "data": {
            "text/plain": [
              "array([[0.1],\n",
              "       [0.2]])"
            ]
          },
          "metadata": {},
          "execution_count": 11
        }
      ]
    },
    {
      "cell_type": "code",
      "source": [
        "#add bias\n",
        "\n",
        "bias = 0.3"
      ],
      "metadata": {
        "id": "WdpHsHtATGri"
      },
      "execution_count": null,
      "outputs": []
    },
    {
      "cell_type": "code",
      "source": [
        "#activation function\n",
        "\n",
        "def sigmoid_func(x):\n",
        "  return 1/(1 + np.exp(-x))"
      ],
      "metadata": {
        "id": "y4jeyxLdTN8c"
      },
      "execution_count": null,
      "outputs": []
    },
    {
      "cell_type": "code",
      "source": [
        "# derivative of sigmoid function\n",
        "\n",
        "def der(x):\n",
        "  return sigmoid_func(x) * (1- (sigmoid_func(x)))"
      ],
      "metadata": {
        "id": "OY9e5i1UTkC_"
      },
      "execution_count": null,
      "outputs": []
    },
    {
      "cell_type": "code",
      "source": [
        "#updating weights\n",
        "\n",
        "for epochs in range(1000):\n",
        "  input_arr = x\n",
        "  weighted_sum = np.dot (input_arr , wt) + bias\n",
        "  first_output = sigmoid_func(weighted_sum)\n",
        "\n",
        "  error = first_output - output\n",
        "  total_error = np.square(np.subtract(first_output,output)).mean()\n",
        "\n",
        "  first_der = error\n",
        "  second_der = der(first_output)\n",
        "  derivative = first_der * second_der\n",
        "\n",
        "  t_input = x.T\n",
        "  final_der = np.dot (t_input , derivative)\n",
        "\n",
        "  #update weights\n",
        "  wt = wt - 0.05 * final_der\n",
        "\n",
        "  #update bias\n",
        "  for i in derivative:\n",
        "    bias = bias - 0.05 * i\n",
        "\n",
        "  print(wt)\n",
        "  print(bias)\n",
        "\n"
      ],
      "metadata": {
        "id": "-95x-NVsUDaE"
      },
      "execution_count": null,
      "outputs": []
    },
    {
      "cell_type": "code",
      "source": [
        "# prediction\n",
        "prediction = np.array([0,0])\n",
        "result = np.dot(prediction,wt) + bias\n",
        "res = sigmoid_func(result)\n",
        "print(res)"
      ],
      "metadata": {
        "colab": {
          "base_uri": "https://localhost:8080/"
        },
        "id": "SC6KcuTwZWw5",
        "outputId": "90603767-6259-487f-afb2-70c0fab32b6b"
      },
      "execution_count": null,
      "outputs": [
        {
          "output_type": "stream",
          "name": "stdout",
          "text": [
            "[0.01344957]\n"
          ]
        }
      ]
    },
    {
      "cell_type": "code",
      "source": [
        "prediction = np.array([0,1])\n",
        "result = np.dot(prediction,wt) + bias\n",
        "res = sigmoid_func(result)\n",
        "print(res)"
      ],
      "metadata": {
        "colab": {
          "base_uri": "https://localhost:8080/"
        },
        "id": "fXy5bbtxaYqs",
        "outputId": "7d4d8926-d842-4d77-c764-0864c1e742d0"
      },
      "execution_count": null,
      "outputs": [
        {
          "output_type": "stream",
          "name": "stdout",
          "text": [
            "[0.99252259]\n"
          ]
        }
      ]
    }
  ]
}